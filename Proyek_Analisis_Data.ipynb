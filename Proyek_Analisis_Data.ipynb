{
  "cells": [
    {
      "cell_type": "markdown",
      "metadata": {
        "id": "H9wADwK78DCz"
      },
      "source": [
        "# Proyek Analisis Data: [Input Nama Dataset]\n",
        "- **Nama:** [Fiqram Faathir]\n",
        "- **Email:** [m206d4ky2266@bangkit.academy]\n",
        "- **ID Dicoding:** [fiqram_faathir_ybHJ]"
      ]
    },
    {
      "cell_type": "markdown",
      "metadata": {
        "id": "eE0raob58DC0"
      },
      "source": [
        "## Menentukan Pertanyaan Bisnis"
      ]
    },
    {
      "cell_type": "markdown",
      "metadata": {
        "id": "GmQeQ5YF8DC0"
      },
      "source": [
        "1. Seberapa besar perbandingan jumlah penyewaan sepeda pada tiap musim ?\n",
        "2. Seberapa Besar pengaruh cuaca terhadap penyewaan sepeda ?\n",
        "3. Pada Bulan Berapa Penyewaan Sepeda Terbanyak ?\n",
        "4. Pada pukul berapa penyewaan sepeda yang banyak terjadi ?"
      ]
    },
    {
      "cell_type": "markdown",
      "metadata": {
        "id": "H-z4QGlO8DC1"
      },
      "source": [
        "## Import Semua Packages/Library yang Digunakan"
      ]
    },
    {
      "cell_type": "code",
      "execution_count": 223,
      "metadata": {
        "id": "FVYwaObI8DC1"
      },
      "outputs": [],
      "source": [
        "import pandas as pd\n",
        "import matplotlib.pyplot as plt"
      ]
    },
    {
      "cell_type": "markdown",
      "metadata": {
        "id": "h_Sh51Xy8DC1"
      },
      "source": [
        "## Data Wrangling"
      ]
    },
    {
      "cell_type": "markdown",
      "metadata": {
        "id": "sXU2GBYu8DC1"
      },
      "source": [
        "### Gathering Data\n",
        "Pada tahapan ini akan dilakukan pengumpulan data yang akan digunakan. Data yang akan saya gunakan kali ini adalah Bike sharing Dataset. Data ini terdiri dari 2 file, yaitu data day (penyewaan sepeda tiap hari) dan data hour (penyewaan sepeda tiap jam)."
      ]
    },
    {
      "cell_type": "code",
      "execution_count": 224,
      "metadata": {
        "colab": {
          "base_uri": "https://localhost:8080/",
          "height": 226
        },
        "id": "zjCBk1BI8DC1",
        "outputId": "ea58f15a-86d5-4c1a-8d6f-071d84796587"
      },
      "outputs": [],
      "source": [
        "#mengambil dataset bike day dan hour\n",
        "data_bike_day = pd.read_csv('Bike-sharing-dataset/day.csv')\n",
        "data_bike_hour = pd.read_csv('Bike-sharing-dataset/hour.csv')\n"
      ]
    },
    {
      "cell_type": "code",
      "execution_count": 225,
      "metadata": {
        "colab": {
          "base_uri": "https://localhost:8080/",
          "height": 226
        },
        "id": "evO5fWN9LobA",
        "outputId": "fd319217-2495-486c-e03c-79dda19fca23"
      },
      "outputs": [
        {
          "data": {
            "text/html": [
              "<div>\n",
              "<style scoped>\n",
              "    .dataframe tbody tr th:only-of-type {\n",
              "        vertical-align: middle;\n",
              "    }\n",
              "\n",
              "    .dataframe tbody tr th {\n",
              "        vertical-align: top;\n",
              "    }\n",
              "\n",
              "    .dataframe thead th {\n",
              "        text-align: right;\n",
              "    }\n",
              "</style>\n",
              "<table border=\"1\" class=\"dataframe\">\n",
              "  <thead>\n",
              "    <tr style=\"text-align: right;\">\n",
              "      <th></th>\n",
              "      <th>instant</th>\n",
              "      <th>dteday</th>\n",
              "      <th>season</th>\n",
              "      <th>yr</th>\n",
              "      <th>mnth</th>\n",
              "      <th>holiday</th>\n",
              "      <th>weekday</th>\n",
              "      <th>workingday</th>\n",
              "      <th>weathersit</th>\n",
              "      <th>temp</th>\n",
              "      <th>atemp</th>\n",
              "      <th>hum</th>\n",
              "      <th>windspeed</th>\n",
              "      <th>casual</th>\n",
              "      <th>registered</th>\n",
              "      <th>cnt</th>\n",
              "    </tr>\n",
              "  </thead>\n",
              "  <tbody>\n",
              "    <tr>\n",
              "      <th>0</th>\n",
              "      <td>1</td>\n",
              "      <td>2011-01-01</td>\n",
              "      <td>1</td>\n",
              "      <td>0</td>\n",
              "      <td>1</td>\n",
              "      <td>0</td>\n",
              "      <td>6</td>\n",
              "      <td>0</td>\n",
              "      <td>2</td>\n",
              "      <td>0.344167</td>\n",
              "      <td>0.363625</td>\n",
              "      <td>0.805833</td>\n",
              "      <td>0.160446</td>\n",
              "      <td>331</td>\n",
              "      <td>654</td>\n",
              "      <td>985</td>\n",
              "    </tr>\n",
              "    <tr>\n",
              "      <th>1</th>\n",
              "      <td>2</td>\n",
              "      <td>2011-01-02</td>\n",
              "      <td>1</td>\n",
              "      <td>0</td>\n",
              "      <td>1</td>\n",
              "      <td>0</td>\n",
              "      <td>0</td>\n",
              "      <td>0</td>\n",
              "      <td>2</td>\n",
              "      <td>0.363478</td>\n",
              "      <td>0.353739</td>\n",
              "      <td>0.696087</td>\n",
              "      <td>0.248539</td>\n",
              "      <td>131</td>\n",
              "      <td>670</td>\n",
              "      <td>801</td>\n",
              "    </tr>\n",
              "    <tr>\n",
              "      <th>2</th>\n",
              "      <td>3</td>\n",
              "      <td>2011-01-03</td>\n",
              "      <td>1</td>\n",
              "      <td>0</td>\n",
              "      <td>1</td>\n",
              "      <td>0</td>\n",
              "      <td>1</td>\n",
              "      <td>1</td>\n",
              "      <td>1</td>\n",
              "      <td>0.196364</td>\n",
              "      <td>0.189405</td>\n",
              "      <td>0.437273</td>\n",
              "      <td>0.248309</td>\n",
              "      <td>120</td>\n",
              "      <td>1229</td>\n",
              "      <td>1349</td>\n",
              "    </tr>\n",
              "    <tr>\n",
              "      <th>3</th>\n",
              "      <td>4</td>\n",
              "      <td>2011-01-04</td>\n",
              "      <td>1</td>\n",
              "      <td>0</td>\n",
              "      <td>1</td>\n",
              "      <td>0</td>\n",
              "      <td>2</td>\n",
              "      <td>1</td>\n",
              "      <td>1</td>\n",
              "      <td>0.200000</td>\n",
              "      <td>0.212122</td>\n",
              "      <td>0.590435</td>\n",
              "      <td>0.160296</td>\n",
              "      <td>108</td>\n",
              "      <td>1454</td>\n",
              "      <td>1562</td>\n",
              "    </tr>\n",
              "    <tr>\n",
              "      <th>4</th>\n",
              "      <td>5</td>\n",
              "      <td>2011-01-05</td>\n",
              "      <td>1</td>\n",
              "      <td>0</td>\n",
              "      <td>1</td>\n",
              "      <td>0</td>\n",
              "      <td>3</td>\n",
              "      <td>1</td>\n",
              "      <td>1</td>\n",
              "      <td>0.226957</td>\n",
              "      <td>0.229270</td>\n",
              "      <td>0.436957</td>\n",
              "      <td>0.186900</td>\n",
              "      <td>82</td>\n",
              "      <td>1518</td>\n",
              "      <td>1600</td>\n",
              "    </tr>\n",
              "  </tbody>\n",
              "</table>\n",
              "</div>"
            ],
            "text/plain": [
              "   instant      dteday  season  yr  mnth  holiday  weekday  workingday  \\\n",
              "0        1  2011-01-01       1   0     1        0        6           0   \n",
              "1        2  2011-01-02       1   0     1        0        0           0   \n",
              "2        3  2011-01-03       1   0     1        0        1           1   \n",
              "3        4  2011-01-04       1   0     1        0        2           1   \n",
              "4        5  2011-01-05       1   0     1        0        3           1   \n",
              "\n",
              "   weathersit      temp     atemp       hum  windspeed  casual  registered  \\\n",
              "0           2  0.344167  0.363625  0.805833   0.160446     331         654   \n",
              "1           2  0.363478  0.353739  0.696087   0.248539     131         670   \n",
              "2           1  0.196364  0.189405  0.437273   0.248309     120        1229   \n",
              "3           1  0.200000  0.212122  0.590435   0.160296     108        1454   \n",
              "4           1  0.226957  0.229270  0.436957   0.186900      82        1518   \n",
              "\n",
              "    cnt  \n",
              "0   985  \n",
              "1   801  \n",
              "2  1349  \n",
              "3  1562  \n",
              "4  1600  "
            ]
          },
          "execution_count": 225,
          "metadata": {},
          "output_type": "execute_result"
        }
      ],
      "source": [
        "#menampilkan dataset bike day\n",
        "data_bike_day.head()"
      ]
    },
    {
      "cell_type": "code",
      "execution_count": 226,
      "metadata": {
        "colab": {
          "base_uri": "https://localhost:8080/",
          "height": 226
        },
        "id": "_uI5ZKHGLsOl",
        "outputId": "8f972dfd-d635-4740-81ca-292c99a5dfed"
      },
      "outputs": [
        {
          "data": {
            "text/html": [
              "<div>\n",
              "<style scoped>\n",
              "    .dataframe tbody tr th:only-of-type {\n",
              "        vertical-align: middle;\n",
              "    }\n",
              "\n",
              "    .dataframe tbody tr th {\n",
              "        vertical-align: top;\n",
              "    }\n",
              "\n",
              "    .dataframe thead th {\n",
              "        text-align: right;\n",
              "    }\n",
              "</style>\n",
              "<table border=\"1\" class=\"dataframe\">\n",
              "  <thead>\n",
              "    <tr style=\"text-align: right;\">\n",
              "      <th></th>\n",
              "      <th>instant</th>\n",
              "      <th>dteday</th>\n",
              "      <th>season</th>\n",
              "      <th>yr</th>\n",
              "      <th>mnth</th>\n",
              "      <th>hr</th>\n",
              "      <th>holiday</th>\n",
              "      <th>weekday</th>\n",
              "      <th>workingday</th>\n",
              "      <th>weathersit</th>\n",
              "      <th>temp</th>\n",
              "      <th>atemp</th>\n",
              "      <th>hum</th>\n",
              "      <th>windspeed</th>\n",
              "      <th>casual</th>\n",
              "      <th>registered</th>\n",
              "      <th>cnt</th>\n",
              "    </tr>\n",
              "  </thead>\n",
              "  <tbody>\n",
              "    <tr>\n",
              "      <th>0</th>\n",
              "      <td>1</td>\n",
              "      <td>2011-01-01</td>\n",
              "      <td>1</td>\n",
              "      <td>0</td>\n",
              "      <td>1</td>\n",
              "      <td>0</td>\n",
              "      <td>0</td>\n",
              "      <td>6</td>\n",
              "      <td>0</td>\n",
              "      <td>1</td>\n",
              "      <td>0.24</td>\n",
              "      <td>0.2879</td>\n",
              "      <td>0.81</td>\n",
              "      <td>0.0</td>\n",
              "      <td>3</td>\n",
              "      <td>13</td>\n",
              "      <td>16</td>\n",
              "    </tr>\n",
              "    <tr>\n",
              "      <th>1</th>\n",
              "      <td>2</td>\n",
              "      <td>2011-01-01</td>\n",
              "      <td>1</td>\n",
              "      <td>0</td>\n",
              "      <td>1</td>\n",
              "      <td>1</td>\n",
              "      <td>0</td>\n",
              "      <td>6</td>\n",
              "      <td>0</td>\n",
              "      <td>1</td>\n",
              "      <td>0.22</td>\n",
              "      <td>0.2727</td>\n",
              "      <td>0.80</td>\n",
              "      <td>0.0</td>\n",
              "      <td>8</td>\n",
              "      <td>32</td>\n",
              "      <td>40</td>\n",
              "    </tr>\n",
              "    <tr>\n",
              "      <th>2</th>\n",
              "      <td>3</td>\n",
              "      <td>2011-01-01</td>\n",
              "      <td>1</td>\n",
              "      <td>0</td>\n",
              "      <td>1</td>\n",
              "      <td>2</td>\n",
              "      <td>0</td>\n",
              "      <td>6</td>\n",
              "      <td>0</td>\n",
              "      <td>1</td>\n",
              "      <td>0.22</td>\n",
              "      <td>0.2727</td>\n",
              "      <td>0.80</td>\n",
              "      <td>0.0</td>\n",
              "      <td>5</td>\n",
              "      <td>27</td>\n",
              "      <td>32</td>\n",
              "    </tr>\n",
              "    <tr>\n",
              "      <th>3</th>\n",
              "      <td>4</td>\n",
              "      <td>2011-01-01</td>\n",
              "      <td>1</td>\n",
              "      <td>0</td>\n",
              "      <td>1</td>\n",
              "      <td>3</td>\n",
              "      <td>0</td>\n",
              "      <td>6</td>\n",
              "      <td>0</td>\n",
              "      <td>1</td>\n",
              "      <td>0.24</td>\n",
              "      <td>0.2879</td>\n",
              "      <td>0.75</td>\n",
              "      <td>0.0</td>\n",
              "      <td>3</td>\n",
              "      <td>10</td>\n",
              "      <td>13</td>\n",
              "    </tr>\n",
              "    <tr>\n",
              "      <th>4</th>\n",
              "      <td>5</td>\n",
              "      <td>2011-01-01</td>\n",
              "      <td>1</td>\n",
              "      <td>0</td>\n",
              "      <td>1</td>\n",
              "      <td>4</td>\n",
              "      <td>0</td>\n",
              "      <td>6</td>\n",
              "      <td>0</td>\n",
              "      <td>1</td>\n",
              "      <td>0.24</td>\n",
              "      <td>0.2879</td>\n",
              "      <td>0.75</td>\n",
              "      <td>0.0</td>\n",
              "      <td>0</td>\n",
              "      <td>1</td>\n",
              "      <td>1</td>\n",
              "    </tr>\n",
              "  </tbody>\n",
              "</table>\n",
              "</div>"
            ],
            "text/plain": [
              "   instant      dteday  season  yr  mnth  hr  holiday  weekday  workingday  \\\n",
              "0        1  2011-01-01       1   0     1   0        0        6           0   \n",
              "1        2  2011-01-01       1   0     1   1        0        6           0   \n",
              "2        3  2011-01-01       1   0     1   2        0        6           0   \n",
              "3        4  2011-01-01       1   0     1   3        0        6           0   \n",
              "4        5  2011-01-01       1   0     1   4        0        6           0   \n",
              "\n",
              "   weathersit  temp   atemp   hum  windspeed  casual  registered  cnt  \n",
              "0           1  0.24  0.2879  0.81        0.0       3          13   16  \n",
              "1           1  0.22  0.2727  0.80        0.0       8          32   40  \n",
              "2           1  0.22  0.2727  0.80        0.0       5          27   32  \n",
              "3           1  0.24  0.2879  0.75        0.0       3          10   13  \n",
              "4           1  0.24  0.2879  0.75        0.0       0           1    1  "
            ]
          },
          "execution_count": 226,
          "metadata": {},
          "output_type": "execute_result"
        }
      ],
      "source": [
        "#menampilkan dataset bike hour\n",
        "data_bike_hour.head()"
      ]
    },
    {
      "cell_type": "markdown",
      "metadata": {
        "id": "FHSiqaZp8DC1"
      },
      "source": [
        "### Assessing Data"
      ]
    },
    {
      "cell_type": "markdown",
      "metadata": {},
      "source": [
        "1. Mengecek jumlah baris  dan kolom pada tabel day"
      ]
    },
    {
      "cell_type": "code",
      "execution_count": 227,
      "metadata": {},
      "outputs": [
        {
          "name": "stdout",
          "output_type": "stream",
          "text": [
            "jumlah baris dan pada dataset bike day adalah: 731 baris, 16 kolom\n"
          ]
        }
      ],
      "source": [
        "#mengecek jumlah baris dan kolom baris dan kolom pada dataset bike day\n",
        "rows_data_bike_day, columns_data_bike_day = data_bike_day.shape\n",
        "print(f\"jumlah baris dan pada dataset bike day adalah: {rows_data_bike_day} baris, {columns_data_bike_day} kolom\")"
      ]
    },
    {
      "cell_type": "markdown",
      "metadata": {},
      "source": [
        "2. Mengecek jumlah baris  dan kolom pada tabel hour"
      ]
    },
    {
      "cell_type": "code",
      "execution_count": 228,
      "metadata": {},
      "outputs": [
        {
          "name": "stdout",
          "output_type": "stream",
          "text": [
            "jumlah baris dan pada dataset bike hour adalah: 17379 baris, 17 kolom\n"
          ]
        }
      ],
      "source": [
        "#mengecek jumlah baris dan kolom baris dan kolom pada dataset bike hour\n",
        "rows_data_bike_hour, columns_data_bike_hour = data_bike_hour.shape\n",
        "print(f\"jumlah baris dan pada dataset bike hour adalah: {rows_data_bike_hour} baris, {columns_data_bike_hour} kolom\")\n"
      ]
    },
    {
      "cell_type": "markdown",
      "metadata": {},
      "source": [
        "3. Mengecek tipe data pada tabel day"
      ]
    },
    {
      "cell_type": "code",
      "execution_count": 229,
      "metadata": {},
      "outputs": [
        {
          "name": "stdout",
          "output_type": "stream",
          "text": [
            "<class 'pandas.core.frame.DataFrame'>\n",
            "RangeIndex: 731 entries, 0 to 730\n",
            "Data columns (total 16 columns):\n",
            " #   Column      Non-Null Count  Dtype  \n",
            "---  ------      --------------  -----  \n",
            " 0   instant     731 non-null    int64  \n",
            " 1   dteday      731 non-null    object \n",
            " 2   season      731 non-null    int64  \n",
            " 3   yr          731 non-null    int64  \n",
            " 4   mnth        731 non-null    int64  \n",
            " 5   holiday     731 non-null    int64  \n",
            " 6   weekday     731 non-null    int64  \n",
            " 7   workingday  731 non-null    int64  \n",
            " 8   weathersit  731 non-null    int64  \n",
            " 9   temp        731 non-null    float64\n",
            " 10  atemp       731 non-null    float64\n",
            " 11  hum         731 non-null    float64\n",
            " 12  windspeed   731 non-null    float64\n",
            " 13  casual      731 non-null    int64  \n",
            " 14  registered  731 non-null    int64  \n",
            " 15  cnt         731 non-null    int64  \n",
            "dtypes: float64(4), int64(11), object(1)\n",
            "memory usage: 91.5+ KB\n"
          ]
        }
      ],
      "source": [
        "data_bike_day.info()"
      ]
    },
    {
      "cell_type": "markdown",
      "metadata": {},
      "source": [
        "4. Mengecek tipe data pada tabel hour"
      ]
    },
    {
      "cell_type": "code",
      "execution_count": 230,
      "metadata": {},
      "outputs": [
        {
          "name": "stdout",
          "output_type": "stream",
          "text": [
            "<class 'pandas.core.frame.DataFrame'>\n",
            "RangeIndex: 17379 entries, 0 to 17378\n",
            "Data columns (total 17 columns):\n",
            " #   Column      Non-Null Count  Dtype  \n",
            "---  ------      --------------  -----  \n",
            " 0   instant     17379 non-null  int64  \n",
            " 1   dteday      17379 non-null  object \n",
            " 2   season      17379 non-null  int64  \n",
            " 3   yr          17379 non-null  int64  \n",
            " 4   mnth        17379 non-null  int64  \n",
            " 5   hr          17379 non-null  int64  \n",
            " 6   holiday     17379 non-null  int64  \n",
            " 7   weekday     17379 non-null  int64  \n",
            " 8   workingday  17379 non-null  int64  \n",
            " 9   weathersit  17379 non-null  int64  \n",
            " 10  temp        17379 non-null  float64\n",
            " 11  atemp       17379 non-null  float64\n",
            " 12  hum         17379 non-null  float64\n",
            " 13  windspeed   17379 non-null  float64\n",
            " 14  casual      17379 non-null  int64  \n",
            " 15  registered  17379 non-null  int64  \n",
            " 16  cnt         17379 non-null  int64  \n",
            "dtypes: float64(4), int64(12), object(1)\n",
            "memory usage: 2.3+ MB\n"
          ]
        }
      ],
      "source": [
        "data_bike_hour.info()"
      ]
    },
    {
      "cell_type": "markdown",
      "metadata": {},
      "source": [
        "5. Mengecek apakah terdapat missing value pada tabel day"
      ]
    },
    {
      "cell_type": "code",
      "execution_count": 231,
      "metadata": {},
      "outputs": [
        {
          "data": {
            "text/plain": [
              "instant       0\n",
              "dteday        0\n",
              "season        0\n",
              "yr            0\n",
              "mnth          0\n",
              "holiday       0\n",
              "weekday       0\n",
              "workingday    0\n",
              "weathersit    0\n",
              "temp          0\n",
              "atemp         0\n",
              "hum           0\n",
              "windspeed     0\n",
              "casual        0\n",
              "registered    0\n",
              "cnt           0\n",
              "dtype: int64"
            ]
          },
          "execution_count": 231,
          "metadata": {},
          "output_type": "execute_result"
        }
      ],
      "source": [
        "#mencari nilai missing pada data_bike_day\n",
        "data_bike_day.isna().sum()"
      ]
    },
    {
      "cell_type": "markdown",
      "metadata": {},
      "source": [
        "6. Mengecek apakah terdapat missing value pada tabel hour"
      ]
    },
    {
      "cell_type": "code",
      "execution_count": 232,
      "metadata": {},
      "outputs": [
        {
          "data": {
            "text/plain": [
              "instant       0\n",
              "dteday        0\n",
              "season        0\n",
              "yr            0\n",
              "mnth          0\n",
              "hr            0\n",
              "holiday       0\n",
              "weekday       0\n",
              "workingday    0\n",
              "weathersit    0\n",
              "temp          0\n",
              "atemp         0\n",
              "hum           0\n",
              "windspeed     0\n",
              "casual        0\n",
              "registered    0\n",
              "cnt           0\n",
              "dtype: int64"
            ]
          },
          "execution_count": 232,
          "metadata": {},
          "output_type": "execute_result"
        }
      ],
      "source": [
        "data_bike_hour.isna().sum()"
      ]
    },
    {
      "cell_type": "markdown",
      "metadata": {},
      "source": [
        "7. Megecek apakah terdapat data yang duplikat pada tabel day"
      ]
    },
    {
      "cell_type": "code",
      "execution_count": 233,
      "metadata": {},
      "outputs": [
        {
          "name": "stdout",
          "output_type": "stream",
          "text": [
            "Jumlah data yang duplikat pada tabel day adalah : 0\n"
          ]
        }
      ],
      "source": [
        "print(f'Jumlah data yang duplikat pada tabel day adalah : {data_bike_day.duplicated().sum()}')"
      ]
    },
    {
      "cell_type": "markdown",
      "metadata": {},
      "source": [
        "8. Mengecek apakah terdapat data duplikat pada tabel hour"
      ]
    },
    {
      "cell_type": "code",
      "execution_count": 234,
      "metadata": {},
      "outputs": [
        {
          "name": "stdout",
          "output_type": "stream",
          "text": [
            "Jumlah data yang duplikat pada tabel hour adalah : 0\n"
          ]
        }
      ],
      "source": [
        "print(f'Jumlah data yang duplikat pada tabel hour adalah : {data_bike_day.duplicated().sum()}')"
      ]
    },
    {
      "cell_type": "markdown",
      "metadata": {
        "id": "EhN5R4hr8DC1"
      },
      "source": [
        "### Cleaning Data"
      ]
    },
    {
      "cell_type": "markdown",
      "metadata": {},
      "source": [
        "Dikarenakan pada data yang ad sudah tidak terdapat lagi missing value dan duplikasi data, maka tidak perlu dilakukan lagi tahapan menghapus ataupun mengisi nilai yang terdapat duplikat dan missing value. untuk tahapan berikutnya yang perlu dilakukan adalah menghapus beberapa kolom yang tidak akan digunakan pada dataset.\n",
        "\n",
        "1. Menghapus kolom yang tidak akan digunakan pada tabel day"
      ]
    },
    {
      "cell_type": "code",
      "execution_count": 235,
      "metadata": {},
      "outputs": [
        {
          "data": {
            "text/html": [
              "<div>\n",
              "<style scoped>\n",
              "    .dataframe tbody tr th:only-of-type {\n",
              "        vertical-align: middle;\n",
              "    }\n",
              "\n",
              "    .dataframe tbody tr th {\n",
              "        vertical-align: top;\n",
              "    }\n",
              "\n",
              "    .dataframe thead th {\n",
              "        text-align: right;\n",
              "    }\n",
              "</style>\n",
              "<table border=\"1\" class=\"dataframe\">\n",
              "  <thead>\n",
              "    <tr style=\"text-align: right;\">\n",
              "      <th></th>\n",
              "      <th>season</th>\n",
              "      <th>mnth</th>\n",
              "      <th>weathersit</th>\n",
              "      <th>cnt</th>\n",
              "    </tr>\n",
              "  </thead>\n",
              "  <tbody>\n",
              "    <tr>\n",
              "      <th>0</th>\n",
              "      <td>1</td>\n",
              "      <td>1</td>\n",
              "      <td>2</td>\n",
              "      <td>985</td>\n",
              "    </tr>\n",
              "    <tr>\n",
              "      <th>1</th>\n",
              "      <td>1</td>\n",
              "      <td>1</td>\n",
              "      <td>2</td>\n",
              "      <td>801</td>\n",
              "    </tr>\n",
              "    <tr>\n",
              "      <th>2</th>\n",
              "      <td>1</td>\n",
              "      <td>1</td>\n",
              "      <td>1</td>\n",
              "      <td>1349</td>\n",
              "    </tr>\n",
              "    <tr>\n",
              "      <th>3</th>\n",
              "      <td>1</td>\n",
              "      <td>1</td>\n",
              "      <td>1</td>\n",
              "      <td>1562</td>\n",
              "    </tr>\n",
              "    <tr>\n",
              "      <th>4</th>\n",
              "      <td>1</td>\n",
              "      <td>1</td>\n",
              "      <td>1</td>\n",
              "      <td>1600</td>\n",
              "    </tr>\n",
              "  </tbody>\n",
              "</table>\n",
              "</div>"
            ],
            "text/plain": [
              "   season  mnth  weathersit   cnt\n",
              "0       1     1           2   985\n",
              "1       1     1           2   801\n",
              "2       1     1           1  1349\n",
              "3       1     1           1  1562\n",
              "4       1     1           1  1600"
            ]
          },
          "execution_count": 235,
          "metadata": {},
          "output_type": "execute_result"
        }
      ],
      "source": [
        "drop_col = ['instant', 'dteday', 'yr', 'month', 'holiday', 'weekday', 'workingday', 'temp', 'atemp', 'hum', 'windspeed', 'winspeed', 'casual', 'registered']\n",
        "\n",
        "for i in data_bike_day.columns:\n",
        "  if i in drop_col:\n",
        "    data_bike_day.drop(labels=i, axis=1, inplace=True)\n",
        "    \n",
        "data_bike_day.head()"
      ]
    },
    {
      "cell_type": "markdown",
      "metadata": {},
      "source": [
        "2. Menghapus kolom yang tidak akan digunakan pada tabel hour"
      ]
    },
    {
      "cell_type": "code",
      "execution_count": 236,
      "metadata": {},
      "outputs": [
        {
          "data": {
            "text/html": [
              "<div>\n",
              "<style scoped>\n",
              "    .dataframe tbody tr th:only-of-type {\n",
              "        vertical-align: middle;\n",
              "    }\n",
              "\n",
              "    .dataframe tbody tr th {\n",
              "        vertical-align: top;\n",
              "    }\n",
              "\n",
              "    .dataframe thead th {\n",
              "        text-align: right;\n",
              "    }\n",
              "</style>\n",
              "<table border=\"1\" class=\"dataframe\">\n",
              "  <thead>\n",
              "    <tr style=\"text-align: right;\">\n",
              "      <th></th>\n",
              "      <th>hr</th>\n",
              "      <th>cnt</th>\n",
              "    </tr>\n",
              "  </thead>\n",
              "  <tbody>\n",
              "    <tr>\n",
              "      <th>0</th>\n",
              "      <td>0</td>\n",
              "      <td>16</td>\n",
              "    </tr>\n",
              "    <tr>\n",
              "      <th>1</th>\n",
              "      <td>1</td>\n",
              "      <td>40</td>\n",
              "    </tr>\n",
              "    <tr>\n",
              "      <th>2</th>\n",
              "      <td>2</td>\n",
              "      <td>32</td>\n",
              "    </tr>\n",
              "    <tr>\n",
              "      <th>3</th>\n",
              "      <td>3</td>\n",
              "      <td>13</td>\n",
              "    </tr>\n",
              "    <tr>\n",
              "      <th>4</th>\n",
              "      <td>4</td>\n",
              "      <td>1</td>\n",
              "    </tr>\n",
              "  </tbody>\n",
              "</table>\n",
              "</div>"
            ],
            "text/plain": [
              "   hr  cnt\n",
              "0   0   16\n",
              "1   1   40\n",
              "2   2   32\n",
              "3   3   13\n",
              "4   4    1"
            ]
          },
          "execution_count": 236,
          "metadata": {},
          "output_type": "execute_result"
        }
      ],
      "source": [
        "drop_col = ['instant', 'dteday', 'season', 'yr', 'mnth', 'holiday', 'weekday', 'workingday', 'weathersit', 'temp', 'atemp', 'hum', 'windspeed', 'casual', 'registered']\n",
        "\n",
        "for i in data_bike_hour.columns:\n",
        "  if i in drop_col:\n",
        "    data_bike_hour.drop(labels=i, axis=1, inplace=True)\n",
        "    \n",
        "data_bike_hour.head()"
      ]
    },
    {
      "cell_type": "markdown",
      "metadata": {},
      "source": [
        "3. Mengubah nama kolom pada data day"
      ]
    },
    {
      "cell_type": "code",
      "execution_count": 237,
      "metadata": {},
      "outputs": [
        {
          "data": {
            "text/html": [
              "<div>\n",
              "<style scoped>\n",
              "    .dataframe tbody tr th:only-of-type {\n",
              "        vertical-align: middle;\n",
              "    }\n",
              "\n",
              "    .dataframe tbody tr th {\n",
              "        vertical-align: top;\n",
              "    }\n",
              "\n",
              "    .dataframe thead th {\n",
              "        text-align: right;\n",
              "    }\n",
              "</style>\n",
              "<table border=\"1\" class=\"dataframe\">\n",
              "  <thead>\n",
              "    <tr style=\"text-align: right;\">\n",
              "      <th></th>\n",
              "      <th>season</th>\n",
              "      <th>month</th>\n",
              "      <th>weathersit</th>\n",
              "      <th>count</th>\n",
              "    </tr>\n",
              "  </thead>\n",
              "  <tbody>\n",
              "    <tr>\n",
              "      <th>0</th>\n",
              "      <td>1</td>\n",
              "      <td>1</td>\n",
              "      <td>2</td>\n",
              "      <td>985</td>\n",
              "    </tr>\n",
              "    <tr>\n",
              "      <th>1</th>\n",
              "      <td>1</td>\n",
              "      <td>1</td>\n",
              "      <td>2</td>\n",
              "      <td>801</td>\n",
              "    </tr>\n",
              "    <tr>\n",
              "      <th>2</th>\n",
              "      <td>1</td>\n",
              "      <td>1</td>\n",
              "      <td>1</td>\n",
              "      <td>1349</td>\n",
              "    </tr>\n",
              "    <tr>\n",
              "      <th>3</th>\n",
              "      <td>1</td>\n",
              "      <td>1</td>\n",
              "      <td>1</td>\n",
              "      <td>1562</td>\n",
              "    </tr>\n",
              "    <tr>\n",
              "      <th>4</th>\n",
              "      <td>1</td>\n",
              "      <td>1</td>\n",
              "      <td>1</td>\n",
              "      <td>1600</td>\n",
              "    </tr>\n",
              "  </tbody>\n",
              "</table>\n",
              "</div>"
            ],
            "text/plain": [
              "   season  month  weathersit  count\n",
              "0       1      1           2    985\n",
              "1       1      1           2    801\n",
              "2       1      1           1   1349\n",
              "3       1      1           1   1562\n",
              "4       1      1           1   1600"
            ]
          },
          "execution_count": 237,
          "metadata": {},
          "output_type": "execute_result"
        }
      ],
      "source": [
        "data_bike_day.rename(columns={\n",
        "  'mnth': 'month',\n",
        "  'cnt': 'count' #total sepeda yang disewakan\n",
        "}, inplace=True)\n",
        "\n",
        "data_bike_day.head()"
      ]
    },
    {
      "cell_type": "markdown",
      "metadata": {},
      "source": [
        "4. Mengubah nama kolom pada data hour"
      ]
    },
    {
      "cell_type": "code",
      "execution_count": 238,
      "metadata": {},
      "outputs": [
        {
          "data": {
            "text/html": [
              "<div>\n",
              "<style scoped>\n",
              "    .dataframe tbody tr th:only-of-type {\n",
              "        vertical-align: middle;\n",
              "    }\n",
              "\n",
              "    .dataframe tbody tr th {\n",
              "        vertical-align: top;\n",
              "    }\n",
              "\n",
              "    .dataframe thead th {\n",
              "        text-align: right;\n",
              "    }\n",
              "</style>\n",
              "<table border=\"1\" class=\"dataframe\">\n",
              "  <thead>\n",
              "    <tr style=\"text-align: right;\">\n",
              "      <th></th>\n",
              "      <th>hour</th>\n",
              "      <th>count</th>\n",
              "    </tr>\n",
              "  </thead>\n",
              "  <tbody>\n",
              "    <tr>\n",
              "      <th>0</th>\n",
              "      <td>0</td>\n",
              "      <td>16</td>\n",
              "    </tr>\n",
              "    <tr>\n",
              "      <th>1</th>\n",
              "      <td>1</td>\n",
              "      <td>40</td>\n",
              "    </tr>\n",
              "    <tr>\n",
              "      <th>2</th>\n",
              "      <td>2</td>\n",
              "      <td>32</td>\n",
              "    </tr>\n",
              "    <tr>\n",
              "      <th>3</th>\n",
              "      <td>3</td>\n",
              "      <td>13</td>\n",
              "    </tr>\n",
              "    <tr>\n",
              "      <th>4</th>\n",
              "      <td>4</td>\n",
              "      <td>1</td>\n",
              "    </tr>\n",
              "  </tbody>\n",
              "</table>\n",
              "</div>"
            ],
            "text/plain": [
              "   hour  count\n",
              "0     0     16\n",
              "1     1     40\n",
              "2     2     32\n",
              "3     3     13\n",
              "4     4      1"
            ]
          },
          "execution_count": 238,
          "metadata": {},
          "output_type": "execute_result"
        }
      ],
      "source": [
        "data_bike_hour.rename(columns={\n",
        "  'hr': 'hour',\n",
        "  'cnt': 'count' #total sepeda yang disewakan\n",
        "}, inplace=True)\n",
        "\n",
        "data_bike_hour.head()"
      ]
    },
    {
      "cell_type": "markdown",
      "metadata": {},
      "source": [
        "8. Memeriksa Info data day dan hour"
      ]
    },
    {
      "cell_type": "code",
      "execution_count": 239,
      "metadata": {},
      "outputs": [
        {
          "name": "stdout",
          "output_type": "stream",
          "text": [
            "<class 'pandas.core.frame.DataFrame'>\n",
            "RangeIndex: 731 entries, 0 to 730\n",
            "Data columns (total 4 columns):\n",
            " #   Column      Non-Null Count  Dtype\n",
            "---  ------      --------------  -----\n",
            " 0   season      731 non-null    int64\n",
            " 1   month       731 non-null    int64\n",
            " 2   weathersit  731 non-null    int64\n",
            " 3   count       731 non-null    int64\n",
            "dtypes: int64(4)\n",
            "memory usage: 23.0 KB\n"
          ]
        }
      ],
      "source": [
        "data_bike_day.info()"
      ]
    },
    {
      "cell_type": "code",
      "execution_count": 240,
      "metadata": {},
      "outputs": [
        {
          "name": "stdout",
          "output_type": "stream",
          "text": [
            "<class 'pandas.core.frame.DataFrame'>\n",
            "RangeIndex: 17379 entries, 0 to 17378\n",
            "Data columns (total 2 columns):\n",
            " #   Column  Non-Null Count  Dtype\n",
            "---  ------  --------------  -----\n",
            " 0   hour    17379 non-null  int64\n",
            " 1   count   17379 non-null  int64\n",
            "dtypes: int64(2)\n",
            "memory usage: 271.7 KB\n"
          ]
        }
      ],
      "source": [
        "data_bike_hour.info()"
      ]
    },
    {
      "cell_type": "markdown",
      "metadata": {
        "id": "gp-Y6wU38DC1"
      },
      "source": [
        "## Exploratory Data Analysis (EDA)"
      ]
    },
    {
      "cell_type": "markdown",
      "metadata": {
        "id": "MW7WF2kr8DC1"
      },
      "source": [
        "### Explore ..."
      ]
    },
    {
      "cell_type": "markdown",
      "metadata": {},
      "source": [
        "1. Mengecek rangkuman statistik pada tabel day"
      ]
    },
    {
      "cell_type": "code",
      "execution_count": 241,
      "metadata": {},
      "outputs": [
        {
          "data": {
            "text/html": [
              "<div>\n",
              "<style scoped>\n",
              "    .dataframe tbody tr th:only-of-type {\n",
              "        vertical-align: middle;\n",
              "    }\n",
              "\n",
              "    .dataframe tbody tr th {\n",
              "        vertical-align: top;\n",
              "    }\n",
              "\n",
              "    .dataframe thead th {\n",
              "        text-align: right;\n",
              "    }\n",
              "</style>\n",
              "<table border=\"1\" class=\"dataframe\">\n",
              "  <thead>\n",
              "    <tr style=\"text-align: right;\">\n",
              "      <th></th>\n",
              "      <th>season</th>\n",
              "      <th>month</th>\n",
              "      <th>weathersit</th>\n",
              "      <th>count</th>\n",
              "    </tr>\n",
              "  </thead>\n",
              "  <tbody>\n",
              "    <tr>\n",
              "      <th>count</th>\n",
              "      <td>731.000000</td>\n",
              "      <td>731.000000</td>\n",
              "      <td>731.000000</td>\n",
              "      <td>731.000000</td>\n",
              "    </tr>\n",
              "    <tr>\n",
              "      <th>mean</th>\n",
              "      <td>2.496580</td>\n",
              "      <td>6.519836</td>\n",
              "      <td>1.395349</td>\n",
              "      <td>4504.348837</td>\n",
              "    </tr>\n",
              "    <tr>\n",
              "      <th>std</th>\n",
              "      <td>1.110807</td>\n",
              "      <td>3.451913</td>\n",
              "      <td>0.544894</td>\n",
              "      <td>1937.211452</td>\n",
              "    </tr>\n",
              "    <tr>\n",
              "      <th>min</th>\n",
              "      <td>1.000000</td>\n",
              "      <td>1.000000</td>\n",
              "      <td>1.000000</td>\n",
              "      <td>22.000000</td>\n",
              "    </tr>\n",
              "    <tr>\n",
              "      <th>25%</th>\n",
              "      <td>2.000000</td>\n",
              "      <td>4.000000</td>\n",
              "      <td>1.000000</td>\n",
              "      <td>3152.000000</td>\n",
              "    </tr>\n",
              "    <tr>\n",
              "      <th>50%</th>\n",
              "      <td>3.000000</td>\n",
              "      <td>7.000000</td>\n",
              "      <td>1.000000</td>\n",
              "      <td>4548.000000</td>\n",
              "    </tr>\n",
              "    <tr>\n",
              "      <th>75%</th>\n",
              "      <td>3.000000</td>\n",
              "      <td>10.000000</td>\n",
              "      <td>2.000000</td>\n",
              "      <td>5956.000000</td>\n",
              "    </tr>\n",
              "    <tr>\n",
              "      <th>max</th>\n",
              "      <td>4.000000</td>\n",
              "      <td>12.000000</td>\n",
              "      <td>3.000000</td>\n",
              "      <td>8714.000000</td>\n",
              "    </tr>\n",
              "  </tbody>\n",
              "</table>\n",
              "</div>"
            ],
            "text/plain": [
              "           season       month  weathersit        count\n",
              "count  731.000000  731.000000  731.000000   731.000000\n",
              "mean     2.496580    6.519836    1.395349  4504.348837\n",
              "std      1.110807    3.451913    0.544894  1937.211452\n",
              "min      1.000000    1.000000    1.000000    22.000000\n",
              "25%      2.000000    4.000000    1.000000  3152.000000\n",
              "50%      3.000000    7.000000    1.000000  4548.000000\n",
              "75%      3.000000   10.000000    2.000000  5956.000000\n",
              "max      4.000000   12.000000    3.000000  8714.000000"
            ]
          },
          "execution_count": 241,
          "metadata": {},
          "output_type": "execute_result"
        }
      ],
      "source": [
        "data_bike_day.describe(include='all')"
      ]
    },
    {
      "cell_type": "markdown",
      "metadata": {},
      "source": [
        "2. Mengecek rangkuman statistik pada tabel hour"
      ]
    },
    {
      "cell_type": "code",
      "execution_count": 242,
      "metadata": {},
      "outputs": [
        {
          "data": {
            "text/html": [
              "<div>\n",
              "<style scoped>\n",
              "    .dataframe tbody tr th:only-of-type {\n",
              "        vertical-align: middle;\n",
              "    }\n",
              "\n",
              "    .dataframe tbody tr th {\n",
              "        vertical-align: top;\n",
              "    }\n",
              "\n",
              "    .dataframe thead th {\n",
              "        text-align: right;\n",
              "    }\n",
              "</style>\n",
              "<table border=\"1\" class=\"dataframe\">\n",
              "  <thead>\n",
              "    <tr style=\"text-align: right;\">\n",
              "      <th></th>\n",
              "      <th>hour</th>\n",
              "      <th>count</th>\n",
              "    </tr>\n",
              "  </thead>\n",
              "  <tbody>\n",
              "    <tr>\n",
              "      <th>count</th>\n",
              "      <td>17379.000000</td>\n",
              "      <td>17379.000000</td>\n",
              "    </tr>\n",
              "    <tr>\n",
              "      <th>mean</th>\n",
              "      <td>11.546752</td>\n",
              "      <td>189.463088</td>\n",
              "    </tr>\n",
              "    <tr>\n",
              "      <th>std</th>\n",
              "      <td>6.914405</td>\n",
              "      <td>181.387599</td>\n",
              "    </tr>\n",
              "    <tr>\n",
              "      <th>min</th>\n",
              "      <td>0.000000</td>\n",
              "      <td>1.000000</td>\n",
              "    </tr>\n",
              "    <tr>\n",
              "      <th>25%</th>\n",
              "      <td>6.000000</td>\n",
              "      <td>40.000000</td>\n",
              "    </tr>\n",
              "    <tr>\n",
              "      <th>50%</th>\n",
              "      <td>12.000000</td>\n",
              "      <td>142.000000</td>\n",
              "    </tr>\n",
              "    <tr>\n",
              "      <th>75%</th>\n",
              "      <td>18.000000</td>\n",
              "      <td>281.000000</td>\n",
              "    </tr>\n",
              "    <tr>\n",
              "      <th>max</th>\n",
              "      <td>23.000000</td>\n",
              "      <td>977.000000</td>\n",
              "    </tr>\n",
              "  </tbody>\n",
              "</table>\n",
              "</div>"
            ],
            "text/plain": [
              "               hour         count\n",
              "count  17379.000000  17379.000000\n",
              "mean      11.546752    189.463088\n",
              "std        6.914405    181.387599\n",
              "min        0.000000      1.000000\n",
              "25%        6.000000     40.000000\n",
              "50%       12.000000    142.000000\n",
              "75%       18.000000    281.000000\n",
              "max       23.000000    977.000000"
            ]
          },
          "execution_count": 242,
          "metadata": {},
          "output_type": "execute_result"
        }
      ],
      "source": [
        "data_bike_hour.describe(include='all')"
      ]
    },
    {
      "cell_type": "markdown",
      "metadata": {},
      "source": [
        "3. Memeriksa distribusi data day dalam bentuk plot histogram"
      ]
    },
    {
      "cell_type": "code",
      "execution_count": 243,
      "metadata": {},
      "outputs": [
        {
          "data": {
            "text/plain": [
              "array([[<Axes: title={'center': 'season'}>,\n",
              "        <Axes: title={'center': 'month'}>],\n",
              "       [<Axes: title={'center': 'weathersit'}>,\n",
              "        <Axes: title={'center': 'count'}>]], dtype=object)"
            ]
          },
          "execution_count": 243,
          "metadata": {},
          "output_type": "execute_result"
        },
        {
          "data": {
            "image/png": "[encoded data removed]",
            "text/plain": [
              "<Figure size 640x480 with 4 Axes>"
            ]
          },
          "metadata": {},
          "output_type": "display_data"
        }
      ],
      "source": [
        "data_bike_day.hist()"
      ]
    },
    {
      "cell_type": "markdown",
      "metadata": {},
      "source": [
        "Berdasarkan plot diagram diatas, pada kolom season mempunyai distribusi UNIFORM, month mempunyai distribusi BIMODAL, weathersit mempunyai distribusi RIGHT-SKEWED, dan count mempunyai distribusi bell-shaped"
      ]
    },
    {
      "cell_type": "markdown",
      "metadata": {},
      "source": [
        "4. Memeriksa distribusi data hour dalam bentuk plot histogram"
      ]
    },
    {
      "cell_type": "code",
      "execution_count": 244,
      "metadata": {},
      "outputs": [
        {
          "data": {
            "text/plain": [
              "array([[<Axes: title={'center': 'hour'}>,\n",
              "        <Axes: title={'center': 'count'}>]], dtype=object)"
            ]
          },
          "execution_count": 244,
          "metadata": {},
          "output_type": "execute_result"
        },
        {
          "data": {
            "image/png": "[encoded data removed]",
            "text/plain": [
              "<Figure size 640x480 with 2 Axes>"
            ]
          },
          "metadata": {},
          "output_type": "display_data"
        }
      ],
      "source": [
        "data_bike_hour.hist()"
      ]
    },
    {
      "cell_type": "markdown",
      "metadata": {},
      "source": [
        "Berdasarkan plot diagram diatas, pada kolom hour mempunyai distribusi MULTIMODAL dan kolom count mempunyai distribusi RIGHT-SKEWED"
      ]
    },
    {
      "cell_type": "markdown",
      "metadata": {},
      "source": [
        "5. Menampilkan Korelasi antar data numerik pada data day"
      ]
    },
    {
      "cell_type": "code",
      "execution_count": 245,
      "metadata": {},
      "outputs": [
        {
          "data": {
            "text/html": [
              "<div>\n",
              "<style scoped>\n",
              "    .dataframe tbody tr th:only-of-type {\n",
              "        vertical-align: middle;\n",
              "    }\n",
              "\n",
              "    .dataframe tbody tr th {\n",
              "        vertical-align: top;\n",
              "    }\n",
              "\n",
              "    .dataframe thead th {\n",
              "        text-align: right;\n",
              "    }\n",
              "</style>\n",
              "<table border=\"1\" class=\"dataframe\">\n",
              "  <thead>\n",
              "    <tr style=\"text-align: right;\">\n",
              "      <th></th>\n",
              "      <th>season</th>\n",
              "      <th>month</th>\n",
              "      <th>weathersit</th>\n",
              "      <th>count</th>\n",
              "    </tr>\n",
              "  </thead>\n",
              "  <tbody>\n",
              "    <tr>\n",
              "      <th>season</th>\n",
              "      <td>1.000000</td>\n",
              "      <td>0.831440</td>\n",
              "      <td>0.019211</td>\n",
              "      <td>0.406100</td>\n",
              "    </tr>\n",
              "    <tr>\n",
              "      <th>month</th>\n",
              "      <td>0.831440</td>\n",
              "      <td>1.000000</td>\n",
              "      <td>0.043528</td>\n",
              "      <td>0.279977</td>\n",
              "    </tr>\n",
              "    <tr>\n",
              "      <th>weathersit</th>\n",
              "      <td>0.019211</td>\n",
              "      <td>0.043528</td>\n",
              "      <td>1.000000</td>\n",
              "      <td>-0.297391</td>\n",
              "    </tr>\n",
              "    <tr>\n",
              "      <th>count</th>\n",
              "      <td>0.406100</td>\n",
              "      <td>0.279977</td>\n",
              "      <td>-0.297391</td>\n",
              "      <td>1.000000</td>\n",
              "    </tr>\n",
              "  </tbody>\n",
              "</table>\n",
              "</div>"
            ],
            "text/plain": [
              "              season     month  weathersit     count\n",
              "season      1.000000  0.831440    0.019211  0.406100\n",
              "month       0.831440  1.000000    0.043528  0.279977\n",
              "weathersit  0.019211  0.043528    1.000000 -0.297391\n",
              "count       0.406100  0.279977   -0.297391  1.000000"
            ]
          },
          "execution_count": 245,
          "metadata": {},
          "output_type": "execute_result"
        }
      ],
      "source": [
        "data_bike_day.corr()"
      ]
    },
    {
      "cell_type": "markdown",
      "metadata": {},
      "source": [
        "Dari hubungan korelasi diatas ada yang korelasinya lemah atau bahkan tidak berkolerasi, yaitu yang nila korelasinya mendekati nol, dan ada juga yang nilai korelasinya kuat atau tidak mendekati nol."
      ]
    },
    {
      "cell_type": "markdown",
      "metadata": {},
      "source": [
        "6. Menampilkan Korelasi antar data numerik pada data hour"
      ]
    },
    {
      "cell_type": "code",
      "execution_count": 246,
      "metadata": {},
      "outputs": [
        {
          "data": {
            "text/html": [
              "<div>\n",
              "<style scoped>\n",
              "    .dataframe tbody tr th:only-of-type {\n",
              "        vertical-align: middle;\n",
              "    }\n",
              "\n",
              "    .dataframe tbody tr th {\n",
              "        vertical-align: top;\n",
              "    }\n",
              "\n",
              "    .dataframe thead th {\n",
              "        text-align: right;\n",
              "    }\n",
              "</style>\n",
              "<table border=\"1\" class=\"dataframe\">\n",
              "  <thead>\n",
              "    <tr style=\"text-align: right;\">\n",
              "      <th></th>\n",
              "      <th>hour</th>\n",
              "      <th>count</th>\n",
              "    </tr>\n",
              "  </thead>\n",
              "  <tbody>\n",
              "    <tr>\n",
              "      <th>hour</th>\n",
              "      <td>1.000000</td>\n",
              "      <td>0.394071</td>\n",
              "    </tr>\n",
              "    <tr>\n",
              "      <th>count</th>\n",
              "      <td>0.394071</td>\n",
              "      <td>1.000000</td>\n",
              "    </tr>\n",
              "  </tbody>\n",
              "</table>\n",
              "</div>"
            ],
            "text/plain": [
              "           hour     count\n",
              "hour   1.000000  0.394071\n",
              "count  0.394071  1.000000"
            ]
          },
          "execution_count": 246,
          "metadata": {},
          "output_type": "execute_result"
        }
      ],
      "source": [
        "data_bike_hour.corr()"
      ]
    },
    {
      "cell_type": "markdown",
      "metadata": {},
      "source": [
        "Dari hubungan korelasi diatas, korelasinya lemah"
      ]
    },
    {
      "cell_type": "markdown",
      "metadata": {},
      "source": [
        "7. Memberikan Keterangan musim pada data day"
      ]
    },
    {
      "cell_type": "code",
      "execution_count": 247,
      "metadata": {},
      "outputs": [],
      "source": [
        "data_bike_day['season'] = data_bike_day['season'].map({\n",
        "  1: 'springer', 2: 'summer', 3: 'fall', 4: 'winter' \n",
        "})\n"
      ]
    },
    {
      "cell_type": "markdown",
      "metadata": {},
      "source": [
        "8. Memberika keterangan cuaca pada data day"
      ]
    },
    {
      "cell_type": "code",
      "execution_count": 248,
      "metadata": {},
      "outputs": [],
      "source": [
        "data_bike_day['weathersit'] = data_bike_day['weathersit'].map({\n",
        "  1: 'Clear, Few clouds, Partly cloudy, Partly cloudy', \n",
        "  2: 'Mist + Cloudy, Mist + Broken clouds, Mist + Few clouds, Mist', \n",
        "  3: 'Light Snow, Light Rain + Thunderstorm + Scattered clouds, Light Rain + Scattered clouds', \n",
        "  4: 'Heavy Rain + Ice Pallets + Thunderstorm + Mist, Snow + Fog' \n",
        "})"
      ]
    },
    {
      "cell_type": "markdown",
      "metadata": {},
      "source": [
        "9. Memberikan Keterangan bulan pada data day"
      ]
    },
    {
      "cell_type": "code",
      "execution_count": 249,
      "metadata": {},
      "outputs": [],
      "source": [
        "data_bike_day['month'] = data_bike_day['month'].map({\n",
        "  1: 'January', \n",
        "  2: 'February', \n",
        "  3: 'March', \n",
        "  4: 'April', \n",
        "  5: 'May', \n",
        "  6: 'June', \n",
        "  7: 'July', \n",
        "  8: 'Agust',\n",
        "  9: 'September', \n",
        "  10: 'October', \n",
        "  11: 'November', \n",
        "  12: 'Desember',\n",
        "})"
      ]
    },
    {
      "cell_type": "markdown",
      "metadata": {},
      "source": [
        "10. Merubah tipe data dari kolom musim, cuaca, dan bulan menjadi category pada data day"
      ]
    },
    {
      "cell_type": "code",
      "execution_count": 250,
      "metadata": {},
      "outputs": [
        {
          "name": "stdout",
          "output_type": "stream",
          "text": [
            "<class 'pandas.core.frame.DataFrame'>\n",
            "RangeIndex: 731 entries, 0 to 730\n",
            "Data columns (total 4 columns):\n",
            " #   Column      Non-Null Count  Dtype   \n",
            "---  ------      --------------  -----   \n",
            " 0   season      731 non-null    category\n",
            " 1   month       731 non-null    category\n",
            " 2   weathersit  731 non-null    category\n",
            " 3   count       731 non-null    int64   \n",
            "dtypes: category(3), int64(1)\n",
            "memory usage: 8.7 KB\n"
          ]
        }
      ],
      "source": [
        "data_bike_day['season'] = data_bike_day['season'].astype('category')\n",
        "data_bike_day['weathersit'] = data_bike_day['weathersit'].astype('category')\n",
        "data_bike_day['month'] = data_bike_day['month'].astype('category')\n",
        "\n",
        "data_bike_day.info()"
      ]
    },
    {
      "cell_type": "markdown",
      "metadata": {},
      "source": [
        "11. Menampilkan tabel data day"
      ]
    },
    {
      "cell_type": "code",
      "execution_count": 251,
      "metadata": {},
      "outputs": [
        {
          "data": {
            "text/html": [
              "<div>\n",
              "<style scoped>\n",
              "    .dataframe tbody tr th:only-of-type {\n",
              "        vertical-align: middle;\n",
              "    }\n",
              "\n",
              "    .dataframe tbody tr th {\n",
              "        vertical-align: top;\n",
              "    }\n",
              "\n",
              "    .dataframe thead th {\n",
              "        text-align: right;\n",
              "    }\n",
              "</style>\n",
              "<table border=\"1\" class=\"dataframe\">\n",
              "  <thead>\n",
              "    <tr style=\"text-align: right;\">\n",
              "      <th></th>\n",
              "      <th>season</th>\n",
              "      <th>month</th>\n",
              "      <th>weathersit</th>\n",
              "      <th>count</th>\n",
              "    </tr>\n",
              "  </thead>\n",
              "  <tbody>\n",
              "    <tr>\n",
              "      <th>0</th>\n",
              "      <td>springer</td>\n",
              "      <td>January</td>\n",
              "      <td>Mist + Cloudy, Mist + Broken clouds, Mist + Fe...</td>\n",
              "      <td>985</td>\n",
              "    </tr>\n",
              "    <tr>\n",
              "      <th>1</th>\n",
              "      <td>springer</td>\n",
              "      <td>January</td>\n",
              "      <td>Mist + Cloudy, Mist + Broken clouds, Mist + Fe...</td>\n",
              "      <td>801</td>\n",
              "    </tr>\n",
              "    <tr>\n",
              "      <th>2</th>\n",
              "      <td>springer</td>\n",
              "      <td>January</td>\n",
              "      <td>Clear, Few clouds, Partly cloudy, Partly cloudy</td>\n",
              "      <td>1349</td>\n",
              "    </tr>\n",
              "    <tr>\n",
              "      <th>3</th>\n",
              "      <td>springer</td>\n",
              "      <td>January</td>\n",
              "      <td>Clear, Few clouds, Partly cloudy, Partly cloudy</td>\n",
              "      <td>1562</td>\n",
              "    </tr>\n",
              "    <tr>\n",
              "      <th>4</th>\n",
              "      <td>springer</td>\n",
              "      <td>January</td>\n",
              "      <td>Clear, Few clouds, Partly cloudy, Partly cloudy</td>\n",
              "      <td>1600</td>\n",
              "    </tr>\n",
              "  </tbody>\n",
              "</table>\n",
              "</div>"
            ],
            "text/plain": [
              "     season    month                                         weathersit  count\n",
              "0  springer  January  Mist + Cloudy, Mist + Broken clouds, Mist + Fe...    985\n",
              "1  springer  January  Mist + Cloudy, Mist + Broken clouds, Mist + Fe...    801\n",
              "2  springer  January    Clear, Few clouds, Partly cloudy, Partly cloudy   1349\n",
              "3  springer  January    Clear, Few clouds, Partly cloudy, Partly cloudy   1562\n",
              "4  springer  January    Clear, Few clouds, Partly cloudy, Partly cloudy   1600"
            ]
          },
          "execution_count": 251,
          "metadata": {},
          "output_type": "execute_result"
        }
      ],
      "source": [
        "data_bike_day.head()"
      ]
    },
    {
      "cell_type": "markdown",
      "metadata": {},
      "source": [
        "12. Kelompokkan penyewaan sepeda berdasarkan musim pada tabel day"
      ]
    },
    {
      "cell_type": "code",
      "execution_count": 252,
      "metadata": {},
      "outputs": [
        {
          "name": "stderr",
          "output_type": "stream",
          "text": [
            "C:\\Users\\My ASUS\\AppData\\Local\\Temp\\ipykernel_17080\\2476527371.py:1: FutureWarning: The default of observed=False is deprecated and will be changed to True in a future version of pandas. Pass observed=False to retain current behavior or observed=True to adopt the future default and silence this warning.\n",
            "  data_bike_day.groupby('season').agg({\n"
          ]
        },
        {
          "data": {
            "text/html": [
              "<div>\n",
              "<style scoped>\n",
              "    .dataframe tbody tr th:only-of-type {\n",
              "        vertical-align: middle;\n",
              "    }\n",
              "\n",
              "    .dataframe tbody tr th {\n",
              "        vertical-align: top;\n",
              "    }\n",
              "\n",
              "    .dataframe thead tr th {\n",
              "        text-align: left;\n",
              "    }\n",
              "\n",
              "    .dataframe thead tr:last-of-type th {\n",
              "        text-align: right;\n",
              "    }\n",
              "</style>\n",
              "<table border=\"1\" class=\"dataframe\">\n",
              "  <thead>\n",
              "    <tr>\n",
              "      <th></th>\n",
              "      <th colspan=\"4\" halign=\"left\">count</th>\n",
              "    </tr>\n",
              "    <tr>\n",
              "      <th></th>\n",
              "      <th>sum</th>\n",
              "      <th>max</th>\n",
              "      <th>min</th>\n",
              "      <th>mean</th>\n",
              "    </tr>\n",
              "    <tr>\n",
              "      <th>season</th>\n",
              "      <th></th>\n",
              "      <th></th>\n",
              "      <th></th>\n",
              "      <th></th>\n",
              "    </tr>\n",
              "  </thead>\n",
              "  <tbody>\n",
              "    <tr>\n",
              "      <th>fall</th>\n",
              "      <td>1061129</td>\n",
              "      <td>8714</td>\n",
              "      <td>1115</td>\n",
              "      <td>5644.303191</td>\n",
              "    </tr>\n",
              "    <tr>\n",
              "      <th>springer</th>\n",
              "      <td>471348</td>\n",
              "      <td>7836</td>\n",
              "      <td>431</td>\n",
              "      <td>2604.132597</td>\n",
              "    </tr>\n",
              "    <tr>\n",
              "      <th>summer</th>\n",
              "      <td>918589</td>\n",
              "      <td>8362</td>\n",
              "      <td>795</td>\n",
              "      <td>4992.331522</td>\n",
              "    </tr>\n",
              "    <tr>\n",
              "      <th>winter</th>\n",
              "      <td>841613</td>\n",
              "      <td>8555</td>\n",
              "      <td>22</td>\n",
              "      <td>4728.162921</td>\n",
              "    </tr>\n",
              "  </tbody>\n",
              "</table>\n",
              "</div>"
            ],
            "text/plain": [
              "            count                         \n",
              "              sum   max   min         mean\n",
              "season                                    \n",
              "fall      1061129  8714  1115  5644.303191\n",
              "springer   471348  7836   431  2604.132597\n",
              "summer     918589  8362   795  4992.331522\n",
              "winter     841613  8555    22  4728.162921"
            ]
          },
          "execution_count": 252,
          "metadata": {},
          "output_type": "execute_result"
        }
      ],
      "source": [
        "data_bike_day.groupby('season').agg({\n",
        "  'count': ['sum', 'max', 'min', 'mean']\n",
        "})\n"
      ]
    },
    {
      "cell_type": "markdown",
      "metadata": {},
      "source": [
        "13. Kelompokkan penyewaan sepeda berdasarkan cuaca pada tabel day dan hitung rata-ratanya"
      ]
    },
    {
      "cell_type": "code",
      "execution_count": 253,
      "metadata": {},
      "outputs": [
        {
          "name": "stderr",
          "output_type": "stream",
          "text": [
            "C:\\Users\\My ASUS\\AppData\\Local\\Temp\\ipykernel_17080\\3038953260.py:1: FutureWarning: The default of observed=False is deprecated and will be changed to True in a future version of pandas. Pass observed=False to retain current behavior or observed=True to adopt the future default and silence this warning.\n",
            "  data_bike_day.groupby('weathersit').agg({\n"
          ]
        },
        {
          "data": {
            "text/html": [
              "<div>\n",
              "<style scoped>\n",
              "    .dataframe tbody tr th:only-of-type {\n",
              "        vertical-align: middle;\n",
              "    }\n",
              "\n",
              "    .dataframe tbody tr th {\n",
              "        vertical-align: top;\n",
              "    }\n",
              "\n",
              "    .dataframe thead tr th {\n",
              "        text-align: left;\n",
              "    }\n",
              "\n",
              "    .dataframe thead tr:last-of-type th {\n",
              "        text-align: right;\n",
              "    }\n",
              "</style>\n",
              "<table border=\"1\" class=\"dataframe\">\n",
              "  <thead>\n",
              "    <tr>\n",
              "      <th></th>\n",
              "      <th colspan=\"4\" halign=\"left\">count</th>\n",
              "    </tr>\n",
              "    <tr>\n",
              "      <th></th>\n",
              "      <th>sum</th>\n",
              "      <th>max</th>\n",
              "      <th>min</th>\n",
              "      <th>mean</th>\n",
              "    </tr>\n",
              "    <tr>\n",
              "      <th>weathersit</th>\n",
              "      <th></th>\n",
              "      <th></th>\n",
              "      <th></th>\n",
              "      <th></th>\n",
              "    </tr>\n",
              "  </thead>\n",
              "  <tbody>\n",
              "    <tr>\n",
              "      <th>Clear, Few clouds, Partly cloudy, Partly cloudy</th>\n",
              "      <td>2257952</td>\n",
              "      <td>8714</td>\n",
              "      <td>431</td>\n",
              "      <td>4876.786177</td>\n",
              "    </tr>\n",
              "    <tr>\n",
              "      <th>Light Snow, Light Rain + Thunderstorm + Scattered clouds, Light Rain + Scattered clouds</th>\n",
              "      <td>37869</td>\n",
              "      <td>4639</td>\n",
              "      <td>22</td>\n",
              "      <td>1803.285714</td>\n",
              "    </tr>\n",
              "    <tr>\n",
              "      <th>Mist + Cloudy, Mist + Broken clouds, Mist + Few clouds, Mist</th>\n",
              "      <td>996858</td>\n",
              "      <td>8362</td>\n",
              "      <td>605</td>\n",
              "      <td>4035.862348</td>\n",
              "    </tr>\n",
              "  </tbody>\n",
              "</table>\n",
              "</div>"
            ],
            "text/plain": [
              "                                                      count             \\\n",
              "                                                        sum   max  min   \n",
              "weathersit                                                               \n",
              "Clear, Few clouds, Partly cloudy, Partly cloudy     2257952  8714  431   \n",
              "Light Snow, Light Rain + Thunderstorm + Scatter...    37869  4639   22   \n",
              "Mist + Cloudy, Mist + Broken clouds, Mist + Few...   996858  8362  605   \n",
              "\n",
              "                                                                 \n",
              "                                                           mean  \n",
              "weathersit                                                       \n",
              "Clear, Few clouds, Partly cloudy, Partly cloudy     4876.786177  \n",
              "Light Snow, Light Rain + Thunderstorm + Scatter...  1803.285714  \n",
              "Mist + Cloudy, Mist + Broken clouds, Mist + Few...  4035.862348  "
            ]
          },
          "execution_count": 253,
          "metadata": {},
          "output_type": "execute_result"
        }
      ],
      "source": [
        "data_bike_day.groupby('weathersit').agg({\n",
        "  'count': ['sum', 'max', 'min', 'mean']\n",
        "})\n"
      ]
    },
    {
      "cell_type": "markdown",
      "metadata": {},
      "source": [
        "14. Kelompokkan penyewaan sepeda berdasarkan bulan pada tabel day"
      ]
    },
    {
      "cell_type": "code",
      "execution_count": 254,
      "metadata": {},
      "outputs": [
        {
          "name": "stderr",
          "output_type": "stream",
          "text": [
            "C:\\Users\\My ASUS\\AppData\\Local\\Temp\\ipykernel_17080\\294570684.py:1: FutureWarning: The default of observed=False is deprecated and will be changed to True in a future version of pandas. Pass observed=False to retain current behavior or observed=True to adopt the future default and silence this warning.\n",
            "  data_bike_day.groupby('month').agg({\n"
          ]
        },
        {
          "data": {
            "text/html": [
              "<div>\n",
              "<style scoped>\n",
              "    .dataframe tbody tr th:only-of-type {\n",
              "        vertical-align: middle;\n",
              "    }\n",
              "\n",
              "    .dataframe tbody tr th {\n",
              "        vertical-align: top;\n",
              "    }\n",
              "\n",
              "    .dataframe thead tr th {\n",
              "        text-align: left;\n",
              "    }\n",
              "\n",
              "    .dataframe thead tr:last-of-type th {\n",
              "        text-align: right;\n",
              "    }\n",
              "</style>\n",
              "<table border=\"1\" class=\"dataframe\">\n",
              "  <thead>\n",
              "    <tr>\n",
              "      <th></th>\n",
              "      <th colspan=\"4\" halign=\"left\">count</th>\n",
              "    </tr>\n",
              "    <tr>\n",
              "      <th></th>\n",
              "      <th>sum</th>\n",
              "      <th>max</th>\n",
              "      <th>min</th>\n",
              "      <th>mean</th>\n",
              "    </tr>\n",
              "    <tr>\n",
              "      <th>month</th>\n",
              "      <th></th>\n",
              "      <th></th>\n",
              "      <th></th>\n",
              "      <th></th>\n",
              "    </tr>\n",
              "  </thead>\n",
              "  <tbody>\n",
              "    <tr>\n",
              "      <th>Agust</th>\n",
              "      <td>351194</td>\n",
              "      <td>7865</td>\n",
              "      <td>1115</td>\n",
              "      <td>5664.419355</td>\n",
              "    </tr>\n",
              "    <tr>\n",
              "      <th>April</th>\n",
              "      <td>269094</td>\n",
              "      <td>7460</td>\n",
              "      <td>795</td>\n",
              "      <td>4484.900000</td>\n",
              "    </tr>\n",
              "    <tr>\n",
              "      <th>Desember</th>\n",
              "      <td>211036</td>\n",
              "      <td>6606</td>\n",
              "      <td>441</td>\n",
              "      <td>3403.806452</td>\n",
              "    </tr>\n",
              "    <tr>\n",
              "      <th>February</th>\n",
              "      <td>151352</td>\n",
              "      <td>5062</td>\n",
              "      <td>1005</td>\n",
              "      <td>2655.298246</td>\n",
              "    </tr>\n",
              "    <tr>\n",
              "      <th>January</th>\n",
              "      <td>134933</td>\n",
              "      <td>4521</td>\n",
              "      <td>431</td>\n",
              "      <td>2176.338710</td>\n",
              "    </tr>\n",
              "    <tr>\n",
              "      <th>July</th>\n",
              "      <td>344948</td>\n",
              "      <td>8173</td>\n",
              "      <td>3285</td>\n",
              "      <td>5563.677419</td>\n",
              "    </tr>\n",
              "    <tr>\n",
              "      <th>June</th>\n",
              "      <td>346342</td>\n",
              "      <td>8120</td>\n",
              "      <td>3767</td>\n",
              "      <td>5772.366667</td>\n",
              "    </tr>\n",
              "    <tr>\n",
              "      <th>March</th>\n",
              "      <td>228920</td>\n",
              "      <td>8362</td>\n",
              "      <td>605</td>\n",
              "      <td>3692.258065</td>\n",
              "    </tr>\n",
              "    <tr>\n",
              "      <th>May</th>\n",
              "      <td>331686</td>\n",
              "      <td>8294</td>\n",
              "      <td>2633</td>\n",
              "      <td>5349.774194</td>\n",
              "    </tr>\n",
              "    <tr>\n",
              "      <th>November</th>\n",
              "      <td>254831</td>\n",
              "      <td>6852</td>\n",
              "      <td>1495</td>\n",
              "      <td>4247.183333</td>\n",
              "    </tr>\n",
              "    <tr>\n",
              "      <th>October</th>\n",
              "      <td>322352</td>\n",
              "      <td>8156</td>\n",
              "      <td>22</td>\n",
              "      <td>5199.225806</td>\n",
              "    </tr>\n",
              "    <tr>\n",
              "      <th>September</th>\n",
              "      <td>345991</td>\n",
              "      <td>8714</td>\n",
              "      <td>1842</td>\n",
              "      <td>5766.516667</td>\n",
              "    </tr>\n",
              "  </tbody>\n",
              "</table>\n",
              "</div>"
            ],
            "text/plain": [
              "            count                         \n",
              "              sum   max   min         mean\n",
              "month                                     \n",
              "Agust      351194  7865  1115  5664.419355\n",
              "April      269094  7460   795  4484.900000\n",
              "Desember   211036  6606   441  3403.806452\n",
              "February   151352  5062  1005  2655.298246\n",
              "January    134933  4521   431  2176.338710\n",
              "July       344948  8173  3285  5563.677419\n",
              "June       346342  8120  3767  5772.366667\n",
              "March      228920  8362   605  3692.258065\n",
              "May        331686  8294  2633  5349.774194\n",
              "November   254831  6852  1495  4247.183333\n",
              "October    322352  8156    22  5199.225806\n",
              "September  345991  8714  1842  5766.516667"
            ]
          },
          "execution_count": 254,
          "metadata": {},
          "output_type": "execute_result"
        }
      ],
      "source": [
        "data_bike_day.groupby('month').agg({\n",
        "  'count': ['sum', 'max', 'min', 'mean']\n",
        "})\n"
      ]
    },
    {
      "cell_type": "markdown",
      "metadata": {},
      "source": [
        "15. Kelompokkan penyewaan sepeda berdasarkan jam pada tabel hour"
      ]
    },
    {
      "cell_type": "code",
      "execution_count": 255,
      "metadata": {},
      "outputs": [
        {
          "data": {
            "text/html": [
              "<div>\n",
              "<style scoped>\n",
              "    .dataframe tbody tr th:only-of-type {\n",
              "        vertical-align: middle;\n",
              "    }\n",
              "\n",
              "    .dataframe tbody tr th {\n",
              "        vertical-align: top;\n",
              "    }\n",
              "\n",
              "    .dataframe thead tr th {\n",
              "        text-align: left;\n",
              "    }\n",
              "\n",
              "    .dataframe thead tr:last-of-type th {\n",
              "        text-align: right;\n",
              "    }\n",
              "</style>\n",
              "<table border=\"1\" class=\"dataframe\">\n",
              "  <thead>\n",
              "    <tr>\n",
              "      <th></th>\n",
              "      <th colspan=\"4\" halign=\"left\">count</th>\n",
              "    </tr>\n",
              "    <tr>\n",
              "      <th></th>\n",
              "      <th>sum</th>\n",
              "      <th>max</th>\n",
              "      <th>min</th>\n",
              "      <th>mean</th>\n",
              "    </tr>\n",
              "    <tr>\n",
              "      <th>hour</th>\n",
              "      <th></th>\n",
              "      <th></th>\n",
              "      <th></th>\n",
              "      <th></th>\n",
              "    </tr>\n",
              "  </thead>\n",
              "  <tbody>\n",
              "    <tr>\n",
              "      <th>0</th>\n",
              "      <td>39130</td>\n",
              "      <td>283</td>\n",
              "      <td>2</td>\n",
              "      <td>53.898072</td>\n",
              "    </tr>\n",
              "    <tr>\n",
              "      <th>1</th>\n",
              "      <td>24164</td>\n",
              "      <td>168</td>\n",
              "      <td>1</td>\n",
              "      <td>33.375691</td>\n",
              "    </tr>\n",
              "    <tr>\n",
              "      <th>2</th>\n",
              "      <td>16352</td>\n",
              "      <td>132</td>\n",
              "      <td>1</td>\n",
              "      <td>22.869930</td>\n",
              "    </tr>\n",
              "    <tr>\n",
              "      <th>3</th>\n",
              "      <td>8174</td>\n",
              "      <td>79</td>\n",
              "      <td>1</td>\n",
              "      <td>11.727403</td>\n",
              "    </tr>\n",
              "    <tr>\n",
              "      <th>4</th>\n",
              "      <td>4428</td>\n",
              "      <td>28</td>\n",
              "      <td>1</td>\n",
              "      <td>6.352941</td>\n",
              "    </tr>\n",
              "    <tr>\n",
              "      <th>5</th>\n",
              "      <td>14261</td>\n",
              "      <td>66</td>\n",
              "      <td>1</td>\n",
              "      <td>19.889819</td>\n",
              "    </tr>\n",
              "    <tr>\n",
              "      <th>6</th>\n",
              "      <td>55132</td>\n",
              "      <td>213</td>\n",
              "      <td>1</td>\n",
              "      <td>76.044138</td>\n",
              "    </tr>\n",
              "    <tr>\n",
              "      <th>7</th>\n",
              "      <td>154171</td>\n",
              "      <td>596</td>\n",
              "      <td>1</td>\n",
              "      <td>212.064649</td>\n",
              "    </tr>\n",
              "    <tr>\n",
              "      <th>8</th>\n",
              "      <td>261001</td>\n",
              "      <td>839</td>\n",
              "      <td>5</td>\n",
              "      <td>359.011004</td>\n",
              "    </tr>\n",
              "    <tr>\n",
              "      <th>9</th>\n",
              "      <td>159438</td>\n",
              "      <td>426</td>\n",
              "      <td>14</td>\n",
              "      <td>219.309491</td>\n",
              "    </tr>\n",
              "    <tr>\n",
              "      <th>10</th>\n",
              "      <td>126257</td>\n",
              "      <td>539</td>\n",
              "      <td>8</td>\n",
              "      <td>173.668501</td>\n",
              "    </tr>\n",
              "    <tr>\n",
              "      <th>11</th>\n",
              "      <td>151320</td>\n",
              "      <td>663</td>\n",
              "      <td>10</td>\n",
              "      <td>208.143054</td>\n",
              "    </tr>\n",
              "    <tr>\n",
              "      <th>12</th>\n",
              "      <td>184414</td>\n",
              "      <td>776</td>\n",
              "      <td>3</td>\n",
              "      <td>253.315934</td>\n",
              "    </tr>\n",
              "    <tr>\n",
              "      <th>13</th>\n",
              "      <td>184919</td>\n",
              "      <td>760</td>\n",
              "      <td>11</td>\n",
              "      <td>253.661180</td>\n",
              "    </tr>\n",
              "    <tr>\n",
              "      <th>14</th>\n",
              "      <td>175652</td>\n",
              "      <td>750</td>\n",
              "      <td>12</td>\n",
              "      <td>240.949246</td>\n",
              "    </tr>\n",
              "    <tr>\n",
              "      <th>15</th>\n",
              "      <td>183149</td>\n",
              "      <td>750</td>\n",
              "      <td>7</td>\n",
              "      <td>251.233196</td>\n",
              "    </tr>\n",
              "    <tr>\n",
              "      <th>16</th>\n",
              "      <td>227748</td>\n",
              "      <td>783</td>\n",
              "      <td>11</td>\n",
              "      <td>311.983562</td>\n",
              "    </tr>\n",
              "    <tr>\n",
              "      <th>17</th>\n",
              "      <td>336860</td>\n",
              "      <td>976</td>\n",
              "      <td>15</td>\n",
              "      <td>461.452055</td>\n",
              "    </tr>\n",
              "    <tr>\n",
              "      <th>18</th>\n",
              "      <td>309772</td>\n",
              "      <td>977</td>\n",
              "      <td>23</td>\n",
              "      <td>425.510989</td>\n",
              "    </tr>\n",
              "    <tr>\n",
              "      <th>19</th>\n",
              "      <td>226789</td>\n",
              "      <td>743</td>\n",
              "      <td>11</td>\n",
              "      <td>311.523352</td>\n",
              "    </tr>\n",
              "    <tr>\n",
              "      <th>20</th>\n",
              "      <td>164550</td>\n",
              "      <td>567</td>\n",
              "      <td>11</td>\n",
              "      <td>226.030220</td>\n",
              "    </tr>\n",
              "    <tr>\n",
              "      <th>21</th>\n",
              "      <td>125445</td>\n",
              "      <td>584</td>\n",
              "      <td>6</td>\n",
              "      <td>172.314560</td>\n",
              "    </tr>\n",
              "    <tr>\n",
              "      <th>22</th>\n",
              "      <td>95612</td>\n",
              "      <td>502</td>\n",
              "      <td>9</td>\n",
              "      <td>131.335165</td>\n",
              "    </tr>\n",
              "    <tr>\n",
              "      <th>23</th>\n",
              "      <td>63941</td>\n",
              "      <td>256</td>\n",
              "      <td>2</td>\n",
              "      <td>87.831044</td>\n",
              "    </tr>\n",
              "  </tbody>\n",
              "</table>\n",
              "</div>"
            ],
            "text/plain": [
              "       count                     \n",
              "         sum  max min        mean\n",
              "hour                             \n",
              "0      39130  283   2   53.898072\n",
              "1      24164  168   1   33.375691\n",
              "2      16352  132   1   22.869930\n",
              "3       8174   79   1   11.727403\n",
              "4       4428   28   1    6.352941\n",
              "5      14261   66   1   19.889819\n",
              "6      55132  213   1   76.044138\n",
              "7     154171  596   1  212.064649\n",
              "8     261001  839   5  359.011004\n",
              "9     159438  426  14  219.309491\n",
              "10    126257  539   8  173.668501\n",
              "11    151320  663  10  208.143054\n",
              "12    184414  776   3  253.315934\n",
              "13    184919  760  11  253.661180\n",
              "14    175652  750  12  240.949246\n",
              "15    183149  750   7  251.233196\n",
              "16    227748  783  11  311.983562\n",
              "17    336860  976  15  461.452055\n",
              "18    309772  977  23  425.510989\n",
              "19    226789  743  11  311.523352\n",
              "20    164550  567  11  226.030220\n",
              "21    125445  584   6  172.314560\n",
              "22     95612  502   9  131.335165\n",
              "23     63941  256   2   87.831044"
            ]
          },
          "execution_count": 255,
          "metadata": {},
          "output_type": "execute_result"
        }
      ],
      "source": [
        "data_bike_hour.groupby('hour').agg({\n",
        "  'count': ['sum', 'max', 'min', 'mean']\n",
        "})\n"
      ]
    },
    {
      "cell_type": "markdown",
      "metadata": {
        "id": "zsyZjqak8DC2"
      },
      "source": [
        "## Visualization & Explanatory Analysis"
      ]
    },
    {
      "cell_type": "markdown",
      "metadata": {
        "id": "HZxOiQ6n8DC2"
      },
      "source": [
        "### Pertanyaan 1: Seberapa besar perbandingan jumlah penyewaan sepeda pada tiap musim  ?\n",
        "  Untuk menjawak bertanyaan ini akan digunakan data day dengan membuat pie chart"
      ]
    },
    {
      "cell_type": "code",
      "execution_count": 256,
      "metadata": {
        "colab": {
          "base_uri": "https://localhost:8080/",
          "height": 833
        },
        "id": "1swJUdAD8DC2",
        "outputId": "aa912241-4b3e-47a7-98ad-275aeabd83b9"
      },
      "outputs": [
        {
          "name": "stderr",
          "output_type": "stream",
          "text": [
            "C:\\Users\\My ASUS\\AppData\\Local\\Temp\\ipykernel_17080\\1997021250.py:2: FutureWarning: The default of observed=False is deprecated and will be changed to True in a future version of pandas. Pass observed=False to retain current behavior or observed=True to adopt the future default and silence this warning.\n",
            "  data_bike_day_count_season = data_bike_day.groupby('season')['count'].sum().reset_index()\n"
          ]
        },
        {
          "data": {
            "image/png": "[encoded data removed]",
            "text/plain": [
              "<Figure size 500x500 with 1 Axes>"
            ]
          },
          "metadata": {},
          "output_type": "display_data"
        }
      ],
      "source": [
        "# Menghitung jumlah pengguna sepeda per kategori musim\n",
        "data_bike_day_count_season = data_bike_day.groupby('season')['count'].sum().reset_index()\n",
        "\n",
        "# Membuat pie chart\n",
        "fig, ax = plt.subplots(figsize=(5, 5))\n",
        "wedges, _, _ = ax.pie(data_bike_day_count_season['count'], labels=data_bike_day_count_season['season'], autopct='%1.1f%%', colors=plt.cm.Paired.colors, startangle=90)\n",
        "\n",
        "\n",
        "plt.show()\n"
      ]
    },
    {
      "cell_type": "markdown",
      "metadata": {
        "id": "DgHI7CiU8DC2"
      },
      "source": [
        "### Pertanyaan 2: Seberapa Besar pengaruh cuaca terhadap penyewaan sepeda ?\n",
        "Untuk menjawab bertanyaan ini akan digunakan data day dengan membuat bar chart"
      ]
    },
    {
      "cell_type": "code",
      "execution_count": 257,
      "metadata": {},
      "outputs": [
        {
          "name": "stderr",
          "output_type": "stream",
          "text": [
            "C:\\Users\\My ASUS\\AppData\\Local\\Temp\\ipykernel_17080\\420294364.py:2: FutureWarning: The default of observed=False is deprecated and will be changed to True in a future version of pandas. Pass observed=False to retain current behavior or observed=True to adopt the future default and silence this warning.\n",
            "  data_bike_day_count_weathersit = data_bike_day.groupby('weathersit')['count'].max().reset_index()\n"
          ]
        },
        {
          "data": {
            "image/png": "[encoded data removed]",
            "text/plain": [
              "<Figure size 700x500 with 1 Axes>"
            ]
          },
          "metadata": {},
          "output_type": "display_data"
        }
      ],
      "source": [
        "# Menghitung jumlah pengguna sepeda per kategori cuaca\n",
        "data_bike_day_count_weathersit = data_bike_day.groupby('weathersit')['count'].max().reset_index()\n",
        "\n",
        "# Mengidentifikasi semua kategori cuaca yang mungkin\n",
        "semua_cuaca = ['Clear, Few clouds, Partly cloudy, Partly cloudy',\n",
        "                'Mist + Cloudy, Mist + Broken clouds, Mist + Few clouds, Mist',\n",
        "                'Light Snow, Light Rain + Thunderstorm + Scattered clouds, Light Rain + Scattered clouds',\n",
        "                'Heavy Rain + Ice Pallets + Thunderstorm + Mist, Snow + Fog']\n",
        "\n",
        "# Membuat dataframe dengan semua kategori cuaca dan menggabungkannya dengan data yang dihitung sebelumnya\n",
        "semua_cuaca = pd.DataFrame({'weathersit': semua_cuaca})\n",
        "data_bike_day_cuaca = pd.merge(semua_cuaca, data_bike_day_count_weathersit, on='weathersit', how='left').fillna(0)\n",
        "\n",
        "# Menggunakan variabel yang berbeda untuk plot\n",
        "fig, ax = plt.subplots(figsize=(7, 5))\n",
        "bars = ax.bar(data_bike_day_cuaca['weathersit'], data_bike_day_cuaca['count'], color=['pink', 'dodgerblue', 'orange', 'limegreen'])\n",
        "\n",
        "# Menambahkan legenda warna\n",
        "legend_labels = {'Clear, Few clouds, Partly cloudy, Partly cloudy': 'Clear, Few clouds, Partly cloudy, Partly cloudy',\n",
        "                 'Mist + Cloudy, Mist + Broken clouds, Mist + Few clouds, Mist': 'Mist + Cloudy, Mist + Broken clouds, Mist + Few clouds, Mist',\n",
        "                 'Light Snow, Light Rain + Thunderstorm + Scattered clouds, Light Rain + Scattered clouds': 'Light Snow, Light Rain + Thunderstorm + Scattered clouds, Light Rain + Scattered clouds',\n",
        "                 'Heavy Rain + Ice Pallets + Thunderstorm + Mist, Snow + Fog': 'Heavy Rain + Ice Pallets + Thunderstorm + Mist, Snow + Fog'}\n",
        "\n",
        "# Menentukan warna pada legenda\n",
        "legend_colors = ['pink', 'dodgerblue', 'orange', 'limegreen']\n",
        "\n",
        "handles = [plt.Rectangle((0, 0), 1, 1, color=color, label=label) for color, label in zip(legend_colors, legend_labels.values())]\n",
        "ax.legend(handles=handles, title='', loc='lower right', bbox_to_anchor=(1.25, -0.32))\n",
        "\n",
        "# Menambahkan label jumlah sebenarnya di atas setiap bar\n",
        "for bar in bars:\n",
        "    yval = bar.get_height()\n",
        "    ax.text(bar.get_x() + bar.get_width()/2, yval, int(yval), ha='center', va='bottom')\n",
        "\n",
        "ax.set_xticks([])\n",
        "ax.set_xlabel('cuaca')\n",
        "ax.set_ylabel('Jumlah Penyewaan Sepeda dalam hari')\n",
        "ax.set_title('Perbandingan Jumlah Pengguna Sepeda Tiap Musim (hari)')\n",
        "plt.show()\n"
      ]
    },
    {
      "cell_type": "markdown",
      "metadata": {},
      "source": [
        "### Pertanyaan 3: Pada Bulan Berapa Penyewaan Sepeda Terbanyak ?\n",
        "Untuk menjawab bertanyaan ini akan digunakan data day dengan membuat pie chart"
      ]
    },
    {
      "cell_type": "code",
      "execution_count": 258,
      "metadata": {},
      "outputs": [
        {
          "name": "stderr",
          "output_type": "stream",
          "text": [
            "C:\\Users\\My ASUS\\AppData\\Local\\Temp\\ipykernel_17080\\3987160084.py:2: FutureWarning: The default of observed=False is deprecated and will be changed to True in a future version of pandas. Pass observed=False to retain current behavior or observed=True to adopt the future default and silence this warning.\n",
            "  data_bike_day_month_max = data_bike_day.groupby('month')['count'].max()\n",
            "C:\\Users\\My ASUS\\AppData\\Local\\Temp\\ipykernel_17080\\3987160084.py:14: UserWarning: set_ticklabels() should only be used with a fixed number of ticks, i.e. after set_ticks() or using a FixedLocator.\n",
            "  ax.set_xticklabels(ax.get_xticklabels(), rotation=45, ha='right')\n"
          ]
        },
        {
          "data": {
            "image/png": "[encoded data removed]",
            "text/plain": [
              "<Figure size 1000x600 with 1 Axes>"
            ]
          },
          "metadata": {},
          "output_type": "display_data"
        }
      ],
      "source": [
        "#menghitung penyewaan sepeda terbanyak berdasarkan bulan\n",
        "data_bike_day_month_max = data_bike_day.groupby('month')['count'].max()\n",
        "fig, ax = plt.subplots(figsize=(10, 6))\n",
        "bars = ax.bar(data_bike_day_month_max.index, data_bike_day_month_max, color=plt.cm.Paired.colors)\n",
        "\n",
        "# Menambahkan label diatas bar\n",
        "for bar in bars:\n",
        "    yval = bar.get_height()\n",
        "    ax.text(bar.get_x() + bar.get_width()/2, yval, round(yval, 2), ha='center', va='bottom')\n",
        "    \n",
        "ax.set_title('Penyewaan maximum setiap bulan')\n",
        "ax.set_xlabel('Bulan')\n",
        "ax.set_ylabel('Jumlah penyewaan')\n",
        "ax.set_xticklabels(ax.get_xticklabels(), rotation=45, ha='right')\n",
        "plt.show()\n"
      ]
    },
    {
      "cell_type": "markdown",
      "metadata": {},
      "source": [
        "### Pertanyaan 4: Pada pukul Berapa Penyewaan Sepeda Banyak Terjadi ?\n",
        "Untuk menjawab bertanyaan ini akan digunakan data hour dengan membuat line chart"
      ]
    },
    {
      "cell_type": "code",
      "execution_count": 259,
      "metadata": {},
      "outputs": [
        {
          "data": {
            "image/png": "[encoded data removed]",
            "text/plain": [
              "<Figure size 1500x600 with 1 Axes>"
            ]
          },
          "metadata": {},
          "output_type": "display_data"
        }
      ],
      "source": [
        "#menghitung rata-rata penyewaan sepeda berdasarkan jam\n",
        "data_bike_hour_count_hour = data_bike_hour.groupby('hour')['count'].mean()\n",
        "\n",
        "plt.figure(figsize=(15, 6))\n",
        "plt.plot(range(24), data_bike_hour_count_hour.values, marker='o', linestyle='-', color='dodgerblue') \n",
        "\n",
        "# Menambahkan label dan judul\n",
        "plt.xlabel('Jam')\n",
        "plt.ylabel('Rata-rata Penyewaan Sepeda')\n",
        "plt.title('Rata-rata Penyewaan Sepeda setiap Jam')\n",
        "\n",
        "# Menandai titik tertinggi\n",
        "jam_tertinggi = data_bike_hour_count_hour.idxmax()\n",
        "rata_rata_tertinggi = data_bike_hour_count_hour.max()\n",
        "plt.annotate(f'rata-rata penyewaan {round(rata_rata_tertinggi, 2)}',\n",
        "             xy=(jam_tertinggi, rata_rata_tertinggi),\n",
        "             xytext=(jam_tertinggi + 0.5, rata_rata_tertinggi + 5),\n",
        "             arrowprops=dict(facecolor='red', shrink=0.05))\n",
        "\n",
        "plt.xticks(range(24))\n",
        "plt.grid(True)\n",
        "plt.show()"
      ]
    },
    {
      "cell_type": "markdown",
      "metadata": {
        "id": "_WeHlCeX8DC2"
      },
      "source": [
        "## Conclusion"
      ]
    },
    {
      "cell_type": "markdown",
      "metadata": {
        "id": "ZTcyR48Y8DC2"
      },
      "source": [
        "1. Seberapa besar perbandingan jumlah penyewaan sepeda pada tiap musim ?\n",
        "\n",
        "    Berdasarkan hasil visualisasi sebelumnya, didapatkan hasil:\n",
        "\n",
        "      - Fall (Musim Gugur): 32.2%\n",
        "      - Summer (Musim Panas): 27.9%\n",
        "      - Winter (Musim Dingin): 25.6%\n",
        "      - Spring (Musim Semi): 14.3%\n",
        "\n",
        "    Perbandingan yang didapatkan cukup signifikan, dengan musim gugur yang menjadi musim favorit penyewaan sepeda, diikuti oleh musim panas dan musim dingin. Musim semi memiliki tingkat penyewaan yang terendah dibandingkan musim lainnya.\n",
        "\n",
        "2. Seberapa Besar pengaruh cuaca terhadap penyewaan sepeda ?\n",
        "\n",
        "    Dari hasil visualisasi sebelumnya didapatkan hasil\n",
        "\n",
        "      - Clear, Few clouds, Partly cloudy, Partly cloudy: 8.714 kali penyewaan\n",
        "      - Mist + Cloudy, Mist + Broken clouds, Mist + Few clouds, Mist: 8.362 kali penyewaan\n",
        "      - Light Snow, Light Rain + Thunderstorm + Scattered clouds, Light Rain + Scattered clouds: 4639 kali penyewaan\n",
        "      - Heavy Rain + Ice Pallets + Thunderstorm + Mist, Snow + Fog: 0 kali penyewaan\n",
        "\n",
        "    Cuaca memberikan pengaruh yang signifikan terhadap penyewaan sepeda, dimana penyewaan tertinggi terdapat pada cuaca 1 Clear, Few clouds, Partly cloudy, Partly cloudy (Cerah, Sedikit awan, Berawan sebagian, Berawan sebagian) yaitu sebanyak 8.714 kali penyewaan, kemudian disusul oleh cuaca 2 Mist + Cloudy, Mist + Broken clouds, Mist + Few clouds, Mist (Kabut + Berawan, Kabut + Awan pecah, Kabut + Sedikit awan, Kabut) sebanyak 8.362 kali penyewaan, Kemudian disusul oleh cuaca 3 Light Snow, Light Rain + Thunderstorm + Scattered clouds, Light Rain + Scattered clouds (Salju Ringan, Hujan Ringan + Badai Petir + Awan berserakan, Hujan Ringan + Awan berserakan) sebanyak 4639 kali penyewaan yang perbedaannya cukup jauhBahkan pada musim 4 Heavy Rain + Ice Pallets + Thunderstorm + Mist, Snow + Fog (Hujan Lebat + Palet Es + Badai Petir + Kabut, Salju + Kabut) tidak ada penyewaan sama sekali. dari hasil yang didapatkan, dapat disimpulkan bawha cuaca sangat mempengaruhi jumlah penyewaan sepeda\n",
        "\n",
        "3. Pada Bulan Berapa Penyewaan Sepeda Terbanyak ?\n",
        "\n",
        "    Dari hasil visualisasi sebelumnya didapatkan hasil:\n",
        "    \n",
        "      - Agust\t\t   :7865\t\n",
        "      - April\t\t   :7460\t\n",
        "      - Desember\t :6606\t\n",
        "      - February\t :5062\t\n",
        "      - January\t\t :4521\t\n",
        "      - July\t\t   :8173\t\n",
        "      - June\t\t   :8120\t\n",
        "      - March\t\t   :8362\t\n",
        "      - May\t\t     :8294\t\n",
        "      - November\t :6852\t\t\n",
        "      - October\t\t :8156\t\n",
        "      - September\t :8714\n",
        "\n",
        "    Untuk menentukan pada bulan berapa penyewaan sepeda terbanyak, data yang divisualisasikan dalam bentuk bar chart sebelumnya merupakan data jumlah maximum penyewaan pada setiap bulan yang ada. Dari keseluruhan penyewaan setiap bulan. Dari hasil visualisasi tersebut didapatkanlah hasil bahwa penyewaan sepeda terbanyak terjadi pada bulan september, yaitu sebanyak 8.714 kali penyewaan\n",
        "\n",
        "4. Pada pukul Berapa Penyewaan Sepeda Banyak Terjadi ?\n",
        "\n",
        "    Visualisasi linechart sebelumnya merupakan hubungan antara rata-rata penyewaan tiap jam sepeda dengan jam. Dari hasil visualisasi tersebut didapatkan bahwa rata-rata penyewaan tertinggi terdapat pada pukul 17.00 dengan rata-rata penyewaan 461,45"
      ]
    }
  ],
  "metadata": {
    "colab": {
      "provenance": []
    },
    "kernelspec": {
      "display_name": "Python 3",
      "language": "python",
      "name": "python3"
    },
    "language_info": {
      "codemirror_mode": {
        "name": "ipython",
        "version": 3
      },
      "file_extension": ".py",
      "mimetype": "text/x-python",
      "name": "python",
      "nbconvert_exporter": "python",
      "pygments_lexer": "ipython3",
      "version": "3.10.8"
    },
    "orig_nbformat": 4,
    "vscode": {
      "interpreter": {
        "hash": "972b3bf27e332e87b5379f2791f6ef9dfc79c71018c370b0d7423235e20fe4d7"
      }
    }
  },
  "nbformat": 4,
  "nbformat_minor": 0
}
